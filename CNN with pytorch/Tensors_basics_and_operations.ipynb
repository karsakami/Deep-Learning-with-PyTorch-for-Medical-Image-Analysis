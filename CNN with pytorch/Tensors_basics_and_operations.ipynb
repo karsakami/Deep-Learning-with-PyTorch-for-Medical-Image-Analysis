{
  "nbformat": 4,
  "nbformat_minor": 0,
  "metadata": {
    "colab": {
      "provenance": [],
      "authorship_tag": "ABX9TyObYm+91TYg+3a3itFwmiv2",
      "include_colab_link": true
    },
    "kernelspec": {
      "name": "python3",
      "display_name": "Python 3"
    },
    "language_info": {
      "name": "python"
    }
  },
  "cells": [
    {
      "cell_type": "markdown",
      "metadata": {
        "id": "view-in-github",
        "colab_type": "text"
      },
      "source": [
        "<a href=\"https://colab.research.google.com/github/karsakami/Deep-Learning-with-PyTorch-for-Medical-Image-Analysis/blob/main/CNN%20with%20pytorch/Tensors_basics_and_operations.ipynb\" target=\"_parent\"><img src=\"https://colab.research.google.com/assets/colab-badge.svg\" alt=\"Open In Colab\"/></a>"
      ]
    },
    {
      "cell_type": "markdown",
      "source": [
        "# **CREATING AND RESHAPING TENSORS**"
      ],
      "metadata": {
        "id": "wBSrC218vk-i"
      }
    },
    {
      "cell_type": "code",
      "execution_count": 1,
      "metadata": {
        "id": "KWtWf65vWkra"
      },
      "outputs": [],
      "source": [
        "import torch\n",
        "import numpy as np"
      ]
    },
    {
      "cell_type": "markdown",
      "source": [
        "Convert normal np array into tensor"
      ],
      "metadata": {
        "id": "pqcBHpcNW7Sn"
      }
    },
    {
      "cell_type": "code",
      "source": [
        "# create a np array\n",
        "arr = np.array([2,3,4,5])"
      ],
      "metadata": {
        "id": "ds3gNFBqW4Wr"
      },
      "execution_count": 2,
      "outputs": []
    },
    {
      "cell_type": "code",
      "source": [
        "# convertion\n",
        "x = torch.as_tensor(arr)"
      ],
      "metadata": {
        "id": "CUmYjJ5cXIaR"
      },
      "execution_count": 3,
      "outputs": []
    },
    {
      "cell_type": "code",
      "source": [
        "# create a new matrix and reshape\n",
        "arr2 = np.arange(0,16)\n",
        "arr2.reshape(4,4)"
      ],
      "metadata": {
        "colab": {
          "base_uri": "https://localhost:8080/"
        },
        "id": "0Kw8SkF4XXKy",
        "outputId": "56996ed8-d249-407a-d214-1dead5b5b7e1"
      },
      "execution_count": 4,
      "outputs": [
        {
          "output_type": "execute_result",
          "data": {
            "text/plain": [
              "array([[ 0,  1,  2,  3],\n",
              "       [ 4,  5,  6,  7],\n",
              "       [ 8,  9, 10, 11],\n",
              "       [12, 13, 14, 15]])"
            ]
          },
          "metadata": {},
          "execution_count": 4
        }
      ]
    },
    {
      "cell_type": "code",
      "source": [
        "# change a certain index for value\n",
        "arr2[3] = 23\n",
        "arr2"
      ],
      "metadata": {
        "colab": {
          "base_uri": "https://localhost:8080/"
        },
        "id": "WxF3ZDjhXwoQ",
        "outputId": "3762754c-6d76-4772-cd12-cf1da2ca487b"
      },
      "execution_count": 5,
      "outputs": [
        {
          "output_type": "execute_result",
          "data": {
            "text/plain": [
              "array([ 0,  1,  2, 23,  4,  5,  6,  7,  8,  9, 10, 11, 12, 13, 14, 15])"
            ]
          },
          "metadata": {},
          "execution_count": 5
        }
      ]
    },
    {
      "cell_type": "markdown",
      "source": [
        "The difference between torch.Tensor and torch.tensor its just data type "
      ],
      "metadata": {
        "id": "SoihBPUBbly5"
      }
    },
    {
      "cell_type": "code",
      "source": [
        "torch.ones(4,3)"
      ],
      "metadata": {
        "colab": {
          "base_uri": "https://localhost:8080/"
        },
        "id": "jkyZ5QqebkaP",
        "outputId": "f8a38e1c-dfde-4eb4-e717-38f2314d68d4"
      },
      "execution_count": 6,
      "outputs": [
        {
          "output_type": "execute_result",
          "data": {
            "text/plain": [
              "tensor([[1., 1., 1.],\n",
              "        [1., 1., 1.],\n",
              "        [1., 1., 1.],\n",
              "        [1., 1., 1.]])"
            ]
          },
          "metadata": {},
          "execution_count": 6
        }
      ]
    },
    {
      "cell_type": "code",
      "source": [
        "# you can reshape a torch tensor just like np array \n",
        "torch.arange(0,18).reshape(2,9)"
      ],
      "metadata": {
        "colab": {
          "base_uri": "https://localhost:8080/"
        },
        "id": "htjv9YvZf7ng",
        "outputId": "ecac805b-3e54-4b1f-aafc-3bc1f4b29580"
      },
      "execution_count": 9,
      "outputs": [
        {
          "output_type": "execute_result",
          "data": {
            "text/plain": [
              "tensor([[ 0,  1,  2,  3,  4,  5,  6,  7,  8],\n",
              "        [ 9, 10, 11, 12, 13, 14, 15, 16, 17]])"
            ]
          },
          "metadata": {},
          "execution_count": 9
        }
      ]
    },
    {
      "cell_type": "code",
      "source": [
        "# func linspace allows us to create linearly spaced values\n",
        "torch.linspace(0,6,6).reshape(2,3)"
      ],
      "metadata": {
        "colab": {
          "base_uri": "https://localhost:8080/"
        },
        "id": "Kxy4ldr9PNjv",
        "outputId": "228653b6-0579-422f-f184-95775a97df77"
      },
      "execution_count": 17,
      "outputs": [
        {
          "output_type": "execute_result",
          "data": {
            "text/plain": [
              "tensor([[0.0000, 1.2000, 2.4000],\n",
              "        [3.6000, 4.8000, 6.0000]])"
            ]
          },
          "metadata": {},
          "execution_count": 17
        }
      ]
    },
    {
      "cell_type": "markdown",
      "source": [
        "Uniform distribution"
      ],
      "metadata": {
        "id": "34Fw8S70Q6At"
      }
    },
    {
      "cell_type": "code",
      "source": [
        "torch.rand(4,3)"
      ],
      "metadata": {
        "colab": {
          "base_uri": "https://localhost:8080/"
        },
        "id": "xNvjx2ASQu-o",
        "outputId": "114d9a8d-80c6-487a-e642-adfef980eae3"
      },
      "execution_count": 18,
      "outputs": [
        {
          "output_type": "execute_result",
          "data": {
            "text/plain": [
              "tensor([[0.8692, 0.7073, 0.4656],\n",
              "        [0.6633, 0.5114, 0.7922],\n",
              "        [0.2555, 0.7795, 0.8672],\n",
              "        [0.3708, 0.3355, 0.1589]])"
            ]
          },
          "metadata": {},
          "execution_count": 18
        }
      ]
    },
    {
      "cell_type": "markdown",
      "source": [
        "Normal distribution"
      ],
      "metadata": {
        "id": "VELMlKluQ7t8"
      }
    },
    {
      "cell_type": "code",
      "source": [
        "torch.randn(4,3)"
      ],
      "metadata": {
        "colab": {
          "base_uri": "https://localhost:8080/"
        },
        "id": "ePATbRfCQ84T",
        "outputId": "069e426a-2e25-402a-e9a4-67bc06358cbc"
      },
      "execution_count": 19,
      "outputs": [
        {
          "output_type": "execute_result",
          "data": {
            "text/plain": [
              "tensor([[-0.5110, -0.7841, -0.3142],\n",
              "        [-1.3540, -0.0308, -1.2165],\n",
              "        [ 0.6743, -0.3505, -1.2534],\n",
              "        [-0.4428,  1.1716,  0.3186]])"
            ]
          },
          "metadata": {},
          "execution_count": 19
        }
      ]
    },
    {
      "cell_type": "markdown",
      "source": [
        "Random int"
      ],
      "metadata": {
        "id": "K41HlLL1RLor"
      }
    },
    {
      "cell_type": "code",
      "source": [
        "torch.randint(0,11 ,(5,5))"
      ],
      "metadata": {
        "colab": {
          "base_uri": "https://localhost:8080/"
        },
        "id": "hlknF7KlRPWK",
        "outputId": "bf890f1e-8888-44a1-c7e4-ab0e28967df8"
      },
      "execution_count": 24,
      "outputs": [
        {
          "output_type": "execute_result",
          "data": {
            "text/plain": [
              "tensor([[ 5,  7,  9,  8,  8],\n",
              "        [ 9,  2,  7,  2,  1],\n",
              "        [ 0,  4,  5,  0,  1],\n",
              "        [10,  4,  4, 10,  9],\n",
              "        [ 4,  1,  3,  3,  5]])"
            ]
          },
          "metadata": {},
          "execution_count": 24
        }
      ]
    },
    {
      "cell_type": "markdown",
      "source": [
        "Lets create a random matrix, and then change values by **rand_like** func"
      ],
      "metadata": {
        "id": "kbKKO5hcSvYW"
      }
    },
    {
      "cell_type": "code",
      "source": [
        "x = torch.zeros([2,6])\n",
        "x"
      ],
      "metadata": {
        "colab": {
          "base_uri": "https://localhost:8080/"
        },
        "id": "eETospfwRSGz",
        "outputId": "dd5b43b5-3f9c-4e79-e553-e59001b88456"
      },
      "execution_count": 27,
      "outputs": [
        {
          "output_type": "execute_result",
          "data": {
            "text/plain": [
              "tensor([[0., 0., 0., 0., 0., 0.],\n",
              "        [0., 0., 0., 0., 0., 0.]])"
            ]
          },
          "metadata": {},
          "execution_count": 27
        }
      ]
    },
    {
      "cell_type": "code",
      "source": [
        "x.shape"
      ],
      "metadata": {
        "colab": {
          "base_uri": "https://localhost:8080/"
        },
        "id": "ngXrhhN8Sdxj",
        "outputId": "62504902-e358-493d-b6a1-adc27d36c64e"
      },
      "execution_count": 30,
      "outputs": [
        {
          "output_type": "execute_result",
          "data": {
            "text/plain": [
              "torch.Size([2, 6])"
            ]
          },
          "metadata": {},
          "execution_count": 30
        }
      ]
    },
    {
      "cell_type": "markdown",
      "source": [
        "We can create matrix with random int, uniform distribution or normal distribution values based on a certain matrix shape"
      ],
      "metadata": {
        "id": "BgTTq0pSTE6v"
      }
    },
    {
      "cell_type": "code",
      "source": [
        "torch.rand_like(x)"
      ],
      "metadata": {
        "colab": {
          "base_uri": "https://localhost:8080/"
        },
        "id": "iKxedcfGSeN8",
        "outputId": "df8c506c-1f10-4155-af11-31f493702f56"
      },
      "execution_count": 31,
      "outputs": [
        {
          "output_type": "execute_result",
          "data": {
            "text/plain": [
              "tensor([[0.5829, 0.0855, 0.7262, 0.1860, 0.0628, 0.9575],\n",
              "        [0.6879, 0.3928, 0.6473, 0.6761, 0.8574, 0.4537]])"
            ]
          },
          "metadata": {},
          "execution_count": 31
        }
      ]
    },
    {
      "cell_type": "code",
      "source": [
        "torch.randn_like(x)"
      ],
      "metadata": {
        "colab": {
          "base_uri": "https://localhost:8080/"
        },
        "id": "92eclTykSuEe",
        "outputId": "8ab5acef-4a51-46b5-c6ae-9080ca89069f"
      },
      "execution_count": 32,
      "outputs": [
        {
          "output_type": "execute_result",
          "data": {
            "text/plain": [
              "tensor([[-1.1642,  0.8259, -0.0499,  0.5323,  1.2465,  0.1963],\n",
              "        [ 0.4238,  0.7619,  0.3470,  0.7934,  0.9574, -0.9862]])"
            ]
          },
          "metadata": {},
          "execution_count": 32
        }
      ]
    },
    {
      "cell_type": "markdown",
      "source": [
        "Creating random seed for getting same values"
      ],
      "metadata": {
        "id": "Pvv7UiQMTpSW"
      }
    },
    {
      "cell_type": "code",
      "source": [
        "torch.manual_seed(42)\n",
        "torch.rand(2,3)"
      ],
      "metadata": {
        "colab": {
          "base_uri": "https://localhost:8080/"
        },
        "id": "xqqJKxHpTDjj",
        "outputId": "39300f3d-b259-485f-eddb-bd4139c3fc2b"
      },
      "execution_count": 35,
      "outputs": [
        {
          "output_type": "execute_result",
          "data": {
            "text/plain": [
              "tensor([[0.8823, 0.9150, 0.3829],\n",
              "        [0.9593, 0.3904, 0.6009]])"
            ]
          },
          "metadata": {},
          "execution_count": 35
        }
      ]
    },
    {
      "cell_type": "code",
      "source": [
        "# create 2D tensor\n",
        "x = torch.arange(6).reshape(3,2)\n",
        "x"
      ],
      "metadata": {
        "colab": {
          "base_uri": "https://localhost:8080/"
        },
        "id": "CMQHbs7TUB4q",
        "outputId": "983523f8-9593-427a-82c2-b4c414dc2f7e"
      },
      "execution_count": 43,
      "outputs": [
        {
          "output_type": "execute_result",
          "data": {
            "text/plain": [
              "tensor([[0, 1],\n",
              "        [2, 3],\n",
              "        [4, 5]])"
            ]
          },
          "metadata": {},
          "execution_count": 43
        }
      ]
    },
    {
      "cell_type": "code",
      "source": [
        "# accesing a tensor certain value\n",
        "iwant3 = x[1,1]"
      ],
      "metadata": {
        "id": "PnmUSalqVLDd"
      },
      "execution_count": 46,
      "outputs": []
    },
    {
      "cell_type": "code",
      "source": [
        "# remember that we still got a tensor, not a int value\n",
        "type(iwant3)"
      ],
      "metadata": {
        "colab": {
          "base_uri": "https://localhost:8080/"
        },
        "id": "KdvATzMoVbpy",
        "outputId": "4e0029d5-1d46-43fb-8734-9a279538a36b"
      },
      "execution_count": 48,
      "outputs": [
        {
          "output_type": "execute_result",
          "data": {
            "text/plain": [
              "torch.Tensor"
            ]
          },
          "metadata": {},
          "execution_count": 48
        }
      ]
    },
    {
      "cell_type": "code",
      "source": [
        "# slices\n",
        "x[:,1]"
      ],
      "metadata": {
        "colab": {
          "base_uri": "https://localhost:8080/"
        },
        "id": "NmJ5ZaKyVlai",
        "outputId": "4b55456a-0181-446b-b0d2-b4727b302460"
      },
      "execution_count": 49,
      "outputs": [
        {
          "output_type": "execute_result",
          "data": {
            "text/plain": [
              "tensor([1, 3, 5])"
            ]
          },
          "metadata": {},
          "execution_count": 49
        }
      ]
    },
    {
      "cell_type": "code",
      "source": [
        "x[:,1:]"
      ],
      "metadata": {
        "colab": {
          "base_uri": "https://localhost:8080/"
        },
        "id": "f4-HZshaVqFU",
        "outputId": "e5900adf-71c4-441f-a7a7-7cc4effd1061"
      },
      "execution_count": 51,
      "outputs": [
        {
          "output_type": "execute_result",
          "data": {
            "text/plain": [
              "tensor([[1],\n",
              "        [3],\n",
              "        [5]])"
            ]
          },
          "metadata": {},
          "execution_count": 51
        }
      ]
    },
    {
      "cell_type": "code",
      "source": [
        "# we can also reshape with view function and assign a variable, \n",
        "# view is reflecting to the most current data\n",
        "x = x.view(2,3)\n",
        "x"
      ],
      "metadata": {
        "colab": {
          "base_uri": "https://localhost:8080/"
        },
        "id": "5z-Kja9bWgyv",
        "outputId": "6811830d-8808-4810-dbbd-f9ba8a3e3163"
      },
      "execution_count": 60,
      "outputs": [
        {
          "output_type": "execute_result",
          "data": {
            "text/plain": [
              "tensor([[0, 1, 2],\n",
              "        [3, 4, 5]])"
            ]
          },
          "metadata": {},
          "execution_count": 60
        }
      ]
    },
    {
      "cell_type": "markdown",
      "source": [
        "---\n",
        "# **Tensors Arithmetic**"
      ],
      "metadata": {
        "id": "lRrx9W-nsFAr"
      }
    },
    {
      "cell_type": "markdown",
      "source": [
        "###**summation**"
      ],
      "metadata": {
        "id": "AO9MSZClttWn"
      }
    },
    {
      "cell_type": "code",
      "source": [
        "a = torch.tensor([23,4,5])\n",
        "b = torch.tensor([23,4,5])\n",
        " \n",
        "a + b"
      ],
      "metadata": {
        "colab": {
          "base_uri": "https://localhost:8080/"
        },
        "id": "T-VwNZpWX9Ck",
        "outputId": "24776c9c-33e9-4aa5-fb76-724a581c0418"
      },
      "execution_count": 66,
      "outputs": [
        {
          "output_type": "execute_result",
          "data": {
            "text/plain": [
              "tensor([46,  8, 10])"
            ]
          },
          "metadata": {},
          "execution_count": 66
        }
      ]
    },
    {
      "cell_type": "code",
      "source": [
        "# method of sum two variables by function\n",
        "torch.add(a,b)"
      ],
      "metadata": {
        "colab": {
          "base_uri": "https://localhost:8080/"
        },
        "id": "Rcu7zwLXspMO",
        "outputId": "d98e5848-4518-48a8-ae10-e391b86dd7e6"
      },
      "execution_count": 67,
      "outputs": [
        {
          "output_type": "execute_result",
          "data": {
            "text/plain": [
              "tensor([46,  8, 10])"
            ]
          },
          "metadata": {},
          "execution_count": 67
        }
      ]
    },
    {
      "cell_type": "markdown",
      "source": [
        "### **multiplication**"
      ],
      "metadata": {
        "id": "srxaodZ6t1MD"
      }
    },
    {
      "cell_type": "code",
      "source": [
        "a.mul(b)"
      ],
      "metadata": {
        "colab": {
          "base_uri": "https://localhost:8080/"
        },
        "id": "HjYy-Ddjs_3T",
        "outputId": "87b94565-5a8a-4a6c-da32-fffd8ad5f464"
      },
      "execution_count": 70,
      "outputs": [
        {
          "output_type": "execute_result",
          "data": {
            "text/plain": [
              "tensor([529,  16,  25])"
            ]
          },
          "metadata": {},
          "execution_count": 70
        }
      ]
    },
    {
      "cell_type": "markdown",
      "source": [
        "or"
      ],
      "metadata": {
        "id": "j9oQLlbft_1y"
      }
    },
    {
      "cell_type": "code",
      "source": [
        "a * b"
      ],
      "metadata": {
        "colab": {
          "base_uri": "https://localhost:8080/"
        },
        "id": "ZC3iq8Oytr4l",
        "outputId": "13804fb3-fcaa-42da-9fb5-171c999c6e30"
      },
      "execution_count": 71,
      "outputs": [
        {
          "output_type": "execute_result",
          "data": {
            "text/plain": [
              "tensor([529,  16,  25])"
            ]
          },
          "metadata": {},
          "execution_count": 71
        }
      ]
    },
    {
      "cell_type": "code",
      "source": [
        "a.mul_(b)\n",
        "# a = a*b"
      ],
      "metadata": {
        "colab": {
          "base_uri": "https://localhost:8080/"
        },
        "id": "G2kuSefht-FD",
        "outputId": "78b0b7b1-77cc-45e3-827e-9e90389ae1a5"
      },
      "execution_count": 72,
      "outputs": [
        {
          "output_type": "execute_result",
          "data": {
            "text/plain": [
              "tensor([529,  16,  25])"
            ]
          },
          "metadata": {},
          "execution_count": 72
        }
      ]
    },
    {
      "cell_type": "markdown",
      "source": [
        "---\n",
        "# **DOT PRODUCT IN PYTORCH**\n",
        "\n",
        "The size of matrixes must be the same!"
      ],
      "metadata": {
        "id": "GGcuD3BsuUy4"
      }
    },
    {
      "cell_type": "code",
      "source": [
        "a = torch.tensor([1,2,3])\n",
        "b = torch.tensor([1,2,3])"
      ],
      "metadata": {
        "id": "freITy8duJzC"
      },
      "execution_count": 77,
      "outputs": []
    },
    {
      "cell_type": "code",
      "source": [
        "a.dot(b)"
      ],
      "metadata": {
        "colab": {
          "base_uri": "https://localhost:8080/"
        },
        "id": "ANlafw_-ud9r",
        "outputId": "79f4e546-5484-4fcd-c856-017fb11aa623"
      },
      "execution_count": 79,
      "outputs": [
        {
          "output_type": "execute_result",
          "data": {
            "text/plain": [
              "tensor(14)"
            ]
          },
          "metadata": {},
          "execution_count": 79
        }
      ]
    },
    {
      "cell_type": "markdown",
      "source": [
        "# **MAT MULTIPLICATION**\n",
        "\n",
        "Numbers of cols must be same as num of rows! "
      ],
      "metadata": {
        "id": "mCRZugJ8vbMP"
      }
    },
    {
      "cell_type": "code",
      "source": [
        "a = torch.tensor([[2,3], [2,7],[8,3]])\n",
        "a.shape"
      ],
      "metadata": {
        "colab": {
          "base_uri": "https://localhost:8080/"
        },
        "id": "IU5LpPywuzxb",
        "outputId": "48d1f83f-08e6-4552-857e-bb76fa5c784c"
      },
      "execution_count": 84,
      "outputs": [
        {
          "output_type": "execute_result",
          "data": {
            "text/plain": [
              "torch.Size([3, 2])"
            ]
          },
          "metadata": {},
          "execution_count": 84
        }
      ]
    },
    {
      "cell_type": "code",
      "source": [
        "b = torch.tensor([[2,3], [2,7],[8,3],[6,3]]).reshape(2,4)\n",
        "b.shape"
      ],
      "metadata": {
        "colab": {
          "base_uri": "https://localhost:8080/"
        },
        "id": "ckPfPc_ZwAOm",
        "outputId": "4f103a00-2adb-4900-8dd3-7d4e7f9c2eee"
      },
      "execution_count": 92,
      "outputs": [
        {
          "output_type": "execute_result",
          "data": {
            "text/plain": [
              "torch.Size([2, 4])"
            ]
          },
          "metadata": {},
          "execution_count": 92
        }
      ]
    },
    {
      "cell_type": "markdown",
      "source": [
        "Above we reshaped a matrix, so that the number of columns and rows agree and we can multiply matrices"
      ],
      "metadata": {
        "id": "ZdGnXRTBwWgT"
      }
    },
    {
      "cell_type": "code",
      "source": [
        "torch.mm(a,b)"
      ],
      "metadata": {
        "colab": {
          "base_uri": "https://localhost:8080/"
        },
        "id": "YYdwKKppwFqN",
        "outputId": "bb78cea5-00c2-46bd-8883-4a5ba413a461"
      },
      "execution_count": 93,
      "outputs": [
        {
          "output_type": "execute_result",
          "data": {
            "text/plain": [
              "tensor([[28, 15, 22, 23],\n",
              "        [60, 27, 46, 35],\n",
              "        [40, 33, 34, 65]])"
            ]
          },
          "metadata": {},
          "execution_count": 93
        }
      ]
    },
    {
      "cell_type": "markdown",
      "source": [
        "Second, faster method of matrix multiplication"
      ],
      "metadata": {
        "id": "24NlPCGjw-ew"
      }
    },
    {
      "cell_type": "code",
      "source": [
        "a @ b"
      ],
      "metadata": {
        "colab": {
          "base_uri": "https://localhost:8080/"
        },
        "id": "3natrYoNw8vy",
        "outputId": "8e5c8c15-066a-4295-d90a-a35ad258b901"
      },
      "execution_count": 94,
      "outputs": [
        {
          "output_type": "execute_result",
          "data": {
            "text/plain": [
              "tensor([[28, 15, 22, 23],\n",
              "        [60, 27, 46, 35],\n",
              "        [40, 33, 34, 65]])"
            ]
          },
          "metadata": {},
          "execution_count": 94
        }
      ]
    },
    {
      "cell_type": "markdown",
      "source": [
        "---\n",
        "# **EXERCISES**"
      ],
      "metadata": {
        "id": "qM9rfznPxjZ8"
      }
    },
    {
      "cell_type": "markdown",
      "source": [
        "### 1. Perform standard imports\n",
        "Import torch and NumPy"
      ],
      "metadata": {
        "id": "6wKNXDQFxpDX"
      }
    },
    {
      "cell_type": "code",
      "source": [
        "import numpy as np\n",
        "import torch"
      ],
      "metadata": {
        "id": "xAjSs2XDwS8E"
      },
      "execution_count": 95,
      "outputs": []
    },
    {
      "cell_type": "markdown",
      "source": [
        "### 2. Set the random seed for NumPy and PyTorch both to \"42\"\n",
        "This allows us to share the same \"random\" results."
      ],
      "metadata": {
        "id": "a4GxQUKRx_Yr"
      }
    },
    {
      "cell_type": "code",
      "source": [
        "np.random.seed(42)"
      ],
      "metadata": {
        "id": "l8-mja12x9Rw"
      },
      "execution_count": 97,
      "outputs": []
    },
    {
      "cell_type": "markdown",
      "source": [
        "### 3. Create a NumPy array called \"arr\" that contains 6 random integers between 0 (inclusive) and 5 (exclusive)"
      ],
      "metadata": {
        "id": "4tCJTh6ByLRm"
      }
    },
    {
      "cell_type": "code",
      "source": [
        "arr = np.random.randint(0,5,6)\n",
        "arr"
      ],
      "metadata": {
        "colab": {
          "base_uri": "https://localhost:8080/"
        },
        "id": "lczzGQAIyLkf",
        "outputId": "8047e405-baa7-4c4f-a261-ba3aad615eb1"
      },
      "execution_count": 103,
      "outputs": [
        {
          "output_type": "execute_result",
          "data": {
            "text/plain": [
              "array([2, 4, 4, 1, 2, 2])"
            ]
          },
          "metadata": {},
          "execution_count": 103
        }
      ]
    },
    {
      "cell_type": "markdown",
      "source": [
        "### 4. Create a tensor \"x\" from the array above"
      ],
      "metadata": {
        "id": "ZAY1LEVzy-vM"
      }
    },
    {
      "cell_type": "code",
      "source": [
        "x = torch.tensor(arr)\n",
        "x"
      ],
      "metadata": {
        "colab": {
          "base_uri": "https://localhost:8080/"
        },
        "id": "hZ4DUDWtywjZ",
        "outputId": "828b7730-dc9f-49de-e092-79d9900a28db"
      },
      "execution_count": 108,
      "outputs": [
        {
          "output_type": "execute_result",
          "data": {
            "text/plain": [
              "tensor([2, 4, 4, 1, 2, 2])"
            ]
          },
          "metadata": {},
          "execution_count": 108
        }
      ]
    },
    {
      "cell_type": "markdown",
      "source": [
        "### 5. Change the dtype of x from 'int32' to 'int64'\n",
        "Note: 'int64' is also called 'LongTensor'"
      ],
      "metadata": {
        "id": "GeD0ZKlFzeh1"
      }
    },
    {
      "cell_type": "code",
      "source": [
        "x = x.type(torch.int64)\n",
        "\n",
        "# check a type\n",
        "x.dtype"
      ],
      "metadata": {
        "colab": {
          "base_uri": "https://localhost:8080/"
        },
        "id": "Glgug7HwzOik",
        "outputId": "bf6b9fe0-930f-47d3-a1ea-3e88bb0e97b1"
      },
      "execution_count": 114,
      "outputs": [
        {
          "output_type": "execute_result",
          "data": {
            "text/plain": [
              "torch.int64"
            ]
          },
          "metadata": {},
          "execution_count": 114
        }
      ]
    },
    {
      "cell_type": "markdown",
      "source": [
        "### 6. Reshape x into a 3x2 tensor\n",
        "There are several ways to do this."
      ],
      "metadata": {
        "id": "81NwuCuE0Hwk"
      }
    },
    {
      "cell_type": "code",
      "source": [
        "x = x.reshape(3,2)\n",
        "x"
      ],
      "metadata": {
        "colab": {
          "base_uri": "https://localhost:8080/"
        },
        "id": "MDyfYvI7zzr-",
        "outputId": "64d571ce-bfe7-4742-9e4f-9a9878a5e7a1"
      },
      "execution_count": 121,
      "outputs": [
        {
          "output_type": "execute_result",
          "data": {
            "text/plain": [
              "tensor([[2, 4],\n",
              "        [4, 1],\n",
              "        [2, 2]])"
            ]
          },
          "metadata": {},
          "execution_count": 121
        }
      ]
    },
    {
      "cell_type": "markdown",
      "source": [
        "### 7. Return the right-hand column of tensor x"
      ],
      "metadata": {
        "id": "XFeq7uD-0Mex"
      }
    },
    {
      "cell_type": "code",
      "source": [
        "x[:,1]"
      ],
      "metadata": {
        "colab": {
          "base_uri": "https://localhost:8080/"
        },
        "id": "i_V7lzwB7qbh",
        "outputId": "78bbd4bf-5595-4f06-85a0-9a6c21d9ad11"
      },
      "execution_count": 122,
      "outputs": [
        {
          "output_type": "execute_result",
          "data": {
            "text/plain": [
              "tensor([4, 1, 2])"
            ]
          },
          "metadata": {},
          "execution_count": 122
        }
      ]
    },
    {
      "cell_type": "markdown",
      "source": [
        "### 8. Without changing x, return a tensor of square values of x\n",
        "There are several ways to do this."
      ],
      "metadata": {
        "id": "rVTEw6SP72Vp"
      }
    },
    {
      "cell_type": "code",
      "source": [
        "x**2"
      ],
      "metadata": {
        "colab": {
          "base_uri": "https://localhost:8080/"
        },
        "id": "-xdlTgJF72k6",
        "outputId": "ccf3e3fa-275f-4753-da35-22c68cbbd3ec"
      },
      "execution_count": 123,
      "outputs": [
        {
          "output_type": "execute_result",
          "data": {
            "text/plain": [
              "tensor([[ 4, 16],\n",
              "        [16,  1],\n",
              "        [ 4,  4]])"
            ]
          },
          "metadata": {},
          "execution_count": 123
        }
      ]
    },
    {
      "cell_type": "markdown",
      "source": [
        "### 9. Create a tensor \"y\" with the same number of elements as x, that can be matrix-multiplied with x\n",
        "Use PyTorch directly (not NumPy) to create a tensor of random integers between 0 (inclusive) and 5 (exclusive).<br>\n",
        "Think about what shape it should have to permit matrix multiplication."
      ],
      "metadata": {
        "id": "hK_YRUW98Xu9"
      }
    },
    {
      "cell_type": "code",
      "source": [
        "y = torch.arange(0,6).reshape(2,3)\n",
        "y"
      ],
      "metadata": {
        "colab": {
          "base_uri": "https://localhost:8080/"
        },
        "id": "Hf8MMVyN8UEb",
        "outputId": "62322738-340e-48ea-bae9-a75c954785ea"
      },
      "execution_count": 133,
      "outputs": [
        {
          "output_type": "execute_result",
          "data": {
            "text/plain": [
              "tensor([[0, 1, 2],\n",
              "        [3, 4, 5]])"
            ]
          },
          "metadata": {},
          "execution_count": 133
        }
      ]
    },
    {
      "cell_type": "markdown",
      "source": [
        "### 10. Find the matrix product of x and y"
      ],
      "metadata": {
        "id": "WPDu7QBu9E53"
      }
    },
    {
      "cell_type": "code",
      "source": [
        "x @ y"
      ],
      "metadata": {
        "colab": {
          "base_uri": "https://localhost:8080/"
        },
        "id": "5ffGrm199BTP",
        "outputId": "34fbffa5-74c2-48f5-bc8d-99a53dc370e0"
      },
      "execution_count": 132,
      "outputs": [
        {
          "output_type": "execute_result",
          "data": {
            "text/plain": [
              "tensor([[12, 18, 24],\n",
              "        [ 3,  8, 13],\n",
              "        [ 6, 10, 14]])"
            ]
          },
          "metadata": {},
          "execution_count": 132
        }
      ]
    }
  ]
}